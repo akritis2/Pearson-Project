{
 "cells": [
  {
   "cell_type": "code",
   "execution_count": null,
   "id": "0648da2c-a32b-4457-b444-9b816498f15a",
   "metadata": {},
   "outputs": [],
   "source": [
    "import pandas as pd\n",
    "import matplotlib.pyplot as plt\n",
    "import seaborn as sns\n",
    "from scipy.stats import chi2_contingency\n",
    "import numpy as np\n",
    "from sklearn.linear_model import LinearRegression\n",
    "from sklearn.model_selection import train_test_split\n",
    "from sklearn.preprocessing import OneHotEncoder\n",
    "from sklearn.metrics import mean_squared_error, r2_score\n",
    "\n",
    "# Load datasets\n",
    "student_mat = pd.read_table('/home/ics-home/Pearson Proj/Pearson/datasets/student-mat.csv', sep=\";\")\n",
    "student_por = pd.read_table('/home/ics-home/Pearson Proj/Pearson/datasets/student-por.csv', sep=\";\")"
   ]
  },
  {
   "cell_type": "code",
   "execution_count": null,
   "id": "f84f8ec8-1c25-4f17-a59a-ac6a03e61e06",
   "metadata": {},
   "outputs": [],
   "source": [
    "# Print student-mat db\n",
    "print(student_mat)"
   ]
  },
  {
   "cell_type": "code",
   "execution_count": null,
   "id": "70d921e3-9cfc-4003-ade3-ae0ff072eb62",
   "metadata": {},
   "outputs": [],
   "source": [
    "# Print student-por db\n",
    "print(student_por)"
   ]
  },
  {
   "cell_type": "code",
   "execution_count": null,
   "id": "54e339de-5f6d-4903-a883-cd0dde2c76c6",
   "metadata": {},
   "outputs": [],
   "source": [
    "# Creating a histogram for single variable\n",
    "student_mat['G1'].plot(kind='hist', bins=20, figsize=(10, 6), color='blue', alpha=0.7)\n",
    "plt.title('Histogram of G1')\n",
    "plt.xlabel('Grade')\n",
    "plt.ylabel('Frequency')\n",
    "plt.show()"
   ]
  },
  {
   "cell_type": "code",
   "execution_count": null,
   "id": "c6a0669d-21d6-42c8-a7a6-0022969c5866",
   "metadata": {
    "scrolled": true
   },
   "outputs": [],
   "source": [
    "student_mat.describe()"
   ]
  },
  {
   "cell_type": "code",
   "execution_count": null,
   "id": "8d18259b-d38e-4c1b-9a62-7d28215420fa",
   "metadata": {},
   "outputs": [],
   "source": [
    "student_por.describe()\n",
    "\n",
    "**Histograms for all numeric columns in student-mat.**"
   ]
  },
  {
   "cell_type": "code",
   "execution_count": null,
   "id": "e1ec942c-8261-4353-8dc8-d4dc6757b157",
   "metadata": {
    "scrolled": true
   },
   "outputs": [],
   "source": [
    "# Can make individual ones or one for each numeric column\n",
    "# x-axis is the value and y-axis is the count\n",
    "student_mat.hist(bins=20, figsize=(15, 10), color='green', alpha=0.5)\n",
    "plt.suptitle('Histograms for All Numeric Columns in Student-Mat')\n",
    "plt.show()"
   ]
  },
  {
   "cell_type": "markdown",
   "id": "e355520b-5992-4c29-84e7-5a140b9a5dac",
   "metadata": {},
   "source": [
    "**Boxplots for all numeric columns in student-mat.**"
   ]
  },
  {
   "cell_type": "code",
   "execution_count": null,
   "id": "a61051a9-c9bc-4e88-9aab-d7e3cb4137ff",
   "metadata": {
    "scrolled": true
   },
   "outputs": [],
   "source": [
    "# Box Plots for all numeric columns\n",
    "student_mat.boxplot(figsize=(12, 8), vert=False)\n",
    "plt.title('Horizontal Box Plots for All Numeric Columns in Student-Mat')\n",
    "plt.xlabel('Values')\n",
    "plt.ylabel('Columns')\n",
    "plt.show()"
   ]
  },
  {
   "cell_type": "code",
   "execution_count": null,
   "id": "1ed9fb24-b495-44d3-8d00-d526cfec4045",
   "metadata": {},
   "outputs": [],
   "source": [
    "# There was a student with 75 absences???\n",
    "student_mat[\"absences\"].max()"
   ]
  },
  {
   "cell_type": "markdown",
   "id": "ed89f230-ecf3-4e20-bc73-7a695b1cee3f",
   "metadata": {},
   "source": [
    "**Histograms for all numeric columns in student-mat.**"
   ]
  },
  {
   "cell_type": "code",
   "execution_count": null,
   "id": "9e7e2728-8ed4-4058-ace0-18c5e34f06f8",
   "metadata": {
    "scrolled": true
   },
   "outputs": [],
   "source": [
    "# Can make individual ones or one for each numeric column\n",
    "# x-axis is the value and y-axis is the count\n",
    "student_por.hist(bins=20, figsize=(15, 10), color='green', alpha=0.5)\n",
    "plt.suptitle('Histograms for All Numeric Columns in Student-Por')\n",
    "plt.show()"
   ]
  },
  {
   "cell_type": "markdown",
   "id": "e0ad7f78-a4d7-43e6-9cc8-c7a47ad3c7a6",
   "metadata": {},
   "source": [
    "**Boxplots for all numeric columns in student-mat.**"
   ]
  },
  {
   "cell_type": "code",
   "execution_count": null,
   "id": "574b8fe1-445c-4d0a-b581-701e0a8280d6",
   "metadata": {
    "scrolled": true
   },
   "outputs": [],
   "source": [
    "# Box Plots for all numeric columns\n",
    "student_por.boxplot(figsize=(12, 8), vert=False)\n",
    "plt.title('Horizontal Box Plots for All Numeric Columns in Student-Por')\n",
    "plt.xlabel('Values')\n",
    "plt.ylabel('Columns')\n",
    "plt.show()"
   ]
  },
  {
   "cell_type": "markdown",
   "id": "5bca1506-393c-4ef2-b057-7b283c31e704",
   "metadata": {},
   "source": [
    "***The values in the numeric columns of student-por fall in a smaller range than student-mat***"
   ]
  },
  {
   "cell_type": "markdown",
   "id": "c6400151-3085-4e20-9742-ddef19b99c0f",
   "metadata": {},
   "source": [
    "2. Using bar charts to compare average grades accross diff categories"
   ]
  },
  {
   "cell_type": "code",
   "execution_count": null,
   "id": "16e1e6ea-12c8-4156-9485-7f31c5a4acb9",
   "metadata": {
    "scrolled": true
   },
   "outputs": [],
   "source": [
    "# Gender\n",
    "gender_avg = student_mat.groupby('sex')['G1'].mean()\n",
    "gender_avg.plot(kind='bar', color=['blue', 'orange'], figsize=(8, 6))\n",
    "plt.title('Average Grades by Sex')\n",
    "plt.xlabel('Sex')\n",
    "plt.ylabel('Average Grade')\n",
    "plt.xticks(rotation=0)\n",
    "plt.show()"
   ]
  },
  {
   "cell_type": "code",
   "execution_count": null,
   "id": "146b96bc-3b44-4947-8c3c-ffc84e312d60",
   "metadata": {
    "scrolled": true
   },
   "outputs": [],
   "source": [
    "# Parent Edu\n",
    "medu_avg = student_mat.groupby('Medu')['G1'].mean()\n",
    "medu_avg.plot(kind='bar', figsize=(8, 6))\n",
    "plt.title('Average Grades by Mothers Education')\n",
    "plt.xlabel('Mothers Education')\n",
    "plt.ylabel('Average Grade')\n",
    "plt.xticks(rotation=0)\n",
    "plt.show()"
   ]
  },
  {
   "cell_type": "code",
   "execution_count": null,
   "id": "fed5e46e-4704-4b69-bc4a-19dd16702637",
   "metadata": {
    "scrolled": true
   },
   "outputs": [],
   "source": [
    "walc_avg = student_mat.groupby('Walc')['G1'].mean()\n",
    "walc_avg.plot(kind='bar', figsize=(8, 6))\n",
    "plt.title('Average Grades by Weekend Alc Comsumption')\n",
    "plt.xlabel('Weekly Alc Consumption')\n",
    "plt.ylabel('Average Grade')\n",
    "plt.xticks(rotation=0)\n",
    "plt.show()"
   ]
  },
  {
   "cell_type": "code",
   "execution_count": null,
   "id": "3e2d21fa-ef1b-4810-bbf3-6f66ea2db4df",
   "metadata": {
    "scrolled": true
   },
   "outputs": [],
   "source": [
    "plt.figure(figsize=(8, 6))\n",
    "sns.boxplot(data=student_mat, x='Walc', y='G1', palette='Blues')\n",
    "plt.title('Grades by Walc')\n",
    "plt.xlabel('Walc')\n",
    "plt.ylabel('Grades')\n",
    "plt.show()"
   ]
  },
  {
   "cell_type": "code",
   "execution_count": null,
   "id": "8e8ade41-3b54-4d00-927b-062feb50c049",
   "metadata": {
    "scrolled": true
   },
   "outputs": [],
   "source": [
    "plt.figure(figsize=(8, 6))\n",
    "sns.boxplot(data=student_mat, x='Dalc', y='G1', palette='Blues')\n",
    "plt.title('Grades by Dalc')\n",
    "plt.xlabel('Dalc')\n",
    "plt.ylabel('Grades')\n",
    "plt.show()"
   ]
  },
  {
   "cell_type": "code",
   "execution_count": null,
   "id": "50cbe5fa-f341-422c-a983-b2a1b93b617c",
   "metadata": {
    "scrolled": true
   },
   "outputs": [],
   "source": [
    "plt.figure(figsize=(8, 6))\n",
    "sns.boxplot(data=student_mat, x='romantic', y='G1', palette='Purples')\n",
    "plt.title('Grades by Romantic')\n",
    "plt.xlabel('Romantic Relationship (Yes/No)')\n",
    "plt.ylabel('Grades')\n",
    "plt.show()"
   ]
  },
  {
   "cell_type": "markdown",
   "id": "c1417ffc-26cc-4dee-b60f-8c3912b4ea8a",
   "metadata": {},
   "source": [
    "Upper quartile for student's without romantic relationships is higher than those with romantic relationships."
   ]
  },
  {
   "cell_type": "code",
   "execution_count": null,
   "id": "5d421265-ae5c-4374-9378-66b3aa499bca",
   "metadata": {
    "scrolled": true
   },
   "outputs": [],
   "source": [
    "# Filtered Student Portuguese\n",
    "filtered_student_por_high_grades = student_por[student_por[\"G1\"] > 14]\n",
    "filtered_student_por_high_grades.hist(bins=20, figsize=(15, 10), color='green', alpha=0.5)\n",
    "\n",
    "plt.suptitle('Histograms for Numeric Columns (G1 > 14)')\n",
    "plt.show()"
   ]
  },
  {
   "cell_type": "code",
   "execution_count": null,
   "id": "93bdac2b-3d09-4ce5-8698-95703e2cd2b1",
   "metadata": {
    "scrolled": true
   },
   "outputs": [],
   "source": [
    "# Filtered Student Portuguese\n",
    "filtered_student_por_low_grades = student_por[student_por[\"G1\"] <= 14]\n",
    "filtered_student_por_low_grades.hist(bins=20, figsize=(15, 10), color='green', alpha=0.5)\n",
    "\n",
    "plt.suptitle('Histograms for Numeric Columns (G1 <= 14)')\n",
    "plt.show()"
   ]
  },
  {
   "cell_type": "code",
   "execution_count": null,
   "id": "829e7b0d-b87f-451d-aaf2-74825d69040c",
   "metadata": {
    "scrolled": true
   },
   "outputs": [],
   "source": [
    "# Filtered Student Math\n",
    "filtered_student_mat_high_grades = student_mat[student_mat[\"G1\"] > 14]\n",
    "filtered_student_mat_high_grades.hist(bins=20, figsize=(15, 10), color='green', alpha=0.5)\n",
    "\n",
    "plt.suptitle('Histograms for Numeric Columns (G1 > 14)')\n",
    "plt.show()"
   ]
  },
  {
   "cell_type": "code",
   "execution_count": null,
   "id": "c5f78ae1-bce7-4d2d-a92f-3ced49d28001",
   "metadata": {
    "scrolled": true
   },
   "outputs": [],
   "source": [
    "# Filtered Student Math\n",
    "filtered_student_por_low_grades = student_mat[student_mat[\"G1\"] <= 14]\n",
    "filtered_student_por_low_grades.hist(bins=20, figsize=(15, 10), color='green', alpha=0.5)\n",
    "\n",
    "plt.suptitle('Histograms for Numeric Columns (G1 <= 14)')\n",
    "plt.show()"
   ]
  },
  {
   "cell_type": "code",
   "execution_count": null,
   "id": "ab9f92e2-d65c-4c36-acb9-dcb6c92cdbc3",
   "metadata": {
    "scrolled": true
   },
   "outputs": [],
   "source": [
    "# Count occurrences of each grade per gender\n",
    "grade_counts = student_mat.groupby('Walc')['G1'].value_counts().unstack()\n",
    "\n",
    "# Plot bar chart\n",
    "grade_counts.T.plot(kind='bar', figsize=(12, 6))\n",
    "\n",
    "plt.title('Distribution of G1 Grades by Walc')\n",
    "plt.xlabel('G1 Grade')\n",
    "plt.ylabel('Number of Students')\n",
    "plt.legend(title='Walc')\n",
    "plt.xticks(rotation=0)\n",
    "plt.show()"
   ]
  },
  {
   "cell_type": "code",
   "execution_count": null,
   "id": "bf2e54e2-2b4c-4895-9b1e-c0132fe89b0f",
   "metadata": {},
   "outputs": [],
   "source": [
    "def perform_chi_square_test(data, col1, col2):\n",
    "    # creating contingency table\n",
    "    contingency_table = pd.crosstab(data[col1], data[col2])\n",
    "\n",
    "    # performing the chi-square test\n",
    "    chi2, p, dof, expected = chi2_contingency(contingency_table)\n",
    "\n",
    "    # interpreting the result\n",
    "    significant = p < 0.05 #5% significance level\n",
    "    return chi2, p, significant\n",
    "\n",
    "aspects_to_test = {\n",
    "    'School Support and Academic Performance': ('schoolsup', 'G1'),\n",
    "    'Extra Classes and Academic Performance': ('paid', 'G1')\n",
    "}\n",
    "\n",
    "por_chi_square_results = {aspect: perform_chi_square_test(student_por, *columns) for aspect, columns in aspects_to_test.items()}\n",
    "por_chi_square_results"
   ]
  },
  {
   "cell_type": "markdown",
   "id": "4493f053-958c-46d0-8910-fe2a8a298a07",
   "metadata": {},
   "source": [
    "something\n"
   ]
  },
  {
   "cell_type": "markdown",
   "id": "54e0c46b-2238-4202-ad42-24505549b274",
   "metadata": {},
   "source": [
    "**Boxplots of grades (G1, G2, G3) across the categorical variables.**"
   ]
  },
  {
   "cell_type": "code",
   "execution_count": null,
   "id": "430a5b98-419b-48b3-8342-a1524b6f493b",
   "metadata": {
    "scrolled": true
   },
   "outputs": [],
   "source": [
    "# list of categorical variables\n",
    "categorical_vars = [\n",
    "    \"sex\", \"school\", \"address\", \"Pstatus\", \"Mjob\", \"Fjob\", \"guardian\", \n",
    "    \"famsize\", \"reason\", \"schoolsup\", \"famsup\", \"activities\", \"paid\", \n",
    "    \"internet\", \"nursery\", \"higher\", \"romantic\"\n",
    "]\n",
    "\n",
    "# Grades to analyze\n",
    "grades = [\"G1\", \"G2\", \"G3\"]\n",
    "\n",
    "# Plot boxplots\n",
    "for cat in categorical_vars:\n",
    "    for grade in grades:\n",
    "        plt.figure(figsize=(6, 4))\n",
    "        sns.boxplot(x=cat, y=grade, data=student_mat)\n",
    "        plt.title(f\"Boxplot of {grade} by {cat}\")\n",
    "        plt.xlabel(cat)\n",
    "        plt.ylabel(grade)\n",
    "        plt.xticks(rotation=45)  # Rotate labels if necessary\n",
    "        plt.show()"
   ]
  },
  {
   "cell_type": "markdown",
   "id": "6ba96439-0082-4436-8d7e-676b63ffcbff",
   "metadata": {},
   "source": [
    "**scatterplots of grades for all numerical variables**"
   ]
  },
  {
   "cell_type": "code",
   "execution_count": null,
   "id": "03648831-531c-47c2-a382-42ffb1155877",
   "metadata": {
    "scrolled": true
   },
   "outputs": [],
   "source": [
    "# List of categorical variables\n",
    "numerical_vars = [\n",
    "    \"age\", \"Medu\", \"Fedu\", \"famrel\", \"traveltime\", \"studytime\", \"failures\", \n",
    "    \"freetime\", \"goout\", \"Walc\", \"Dalc\", \"health\", \"absences\"\n",
    "]\n",
    "\n",
    "# Create scatterplots for each numeric variable vs each grade\n",
    "for num_var in numerical_vars:\n",
    "    for grade in grades:\n",
    "        plt.figure(figsize=(6, 4))\n",
    "        sns.scatterplot(x=student_mat[num_var], y=student_mat[grade], alpha=0.6)\n",
    "        plt.title(f\"Scatterplot of {grade} vs {num_var}\")\n",
    "        plt.xlabel(num_var)\n",
    "        plt.ylabel(grade)\n",
    "        plt.show()"
   ]
  },
  {
   "cell_type": "code",
   "execution_count": null,
   "id": "052d29af-ca9a-45f7-959d-cec97db8b460",
   "metadata": {
    "scrolled": true
   },
   "outputs": [],
   "source": [
    "# Create boxplots for each numeric variable vs grades\n",
    "for num_var in categorical_vars:\n",
    "    for grade in grades:\n",
    "        plt.figure(figsize=(6, 4))\n",
    "        sns.boxplot(x=student_mat[num_var].astype(str), y=student_mat[grade])\n",
    "        plt.title(f\"Boxplot of {grade} vs {num_var}\")\n",
    "        plt.xlabel(num_var)\n",
    "        plt.ylabel(grade)\n",
    "        plt.show()"
   ]
  },
  {
   "cell_type": "markdown",
   "id": "50019fb0-c93b-4e0d-ae3f-67694e2e6706",
   "metadata": {},
   "source": [
    "**Made a function that creates the boxplots**\n",
    "**"
   ]
  },
  {
   "cell_type": "code",
   "execution_count": null,
   "id": "1476094a-c308-4cb0-a9e7-730fd0c12405",
   "metadata": {},
   "outputs": [],
   "source": [
    "# Categorical Vars that we want to look at\n",
    "cat_vars_that_matter_por = [\n",
    "    \"school\", \"Fjob\", \"activities\", \"internet\", \"higher\"\n",
    "]\n",
    "\n",
    "def plot_cat_var(df, cat_vars, grade):\n",
    "    for cat in cat_vars:\n",
    "        plt.figure(figsize=(6, 4))\n",
    "        sns.boxplot(x=cat, y=grade, data=student_mat)\n",
    "        plt.title(f\"Boxplot of {grade} by {cat}\")\n",
    "        plt.xlabel(cat)\n",
    "        plt.ylabel(grade)\n",
    "        plt.xticks(rotation=45)  # Rotate labels if necessary\n",
    "        plt.show()\n",
    "\n",
    "plot_cat_var(student_por, cat_vars_that_matter_por, \"G3\")"
   ]
  },
  {
   "cell_type": "code",
   "execution_count": null,
   "id": "8bd08206-4237-4b3e-bc83-a763fcf62a87",
   "metadata": {},
   "outputs": [],
   "source": [
    "# Categorical Vars that we want to look at\n",
    "cat_vars_that_matter_mat = [\n",
    "    \"Mjob\", \"Fjob\", \"schoolsup\", \"higher\", \"internet\"\n",
    "]\n",
    "\n",
    "plot_cat_var(student_mat, cat_vars_that_matter_mat, \"G3\")"
   ]
  },
  {
   "cell_type": "code",
   "execution_count": null,
   "id": "459afe1f-5e48-4c5a-a6a5-b54cf72227a2",
   "metadata": {},
   "outputs": [],
   "source": [
    "num_vars_that_matter_mat = [\n",
    "    'G1', 'G2', 'studytime', 'failures', 'absences', 'Medu', 'Fedu'\n",
    "]\n",
    "\n",
    "plot_cat_var(student_mat, num_vars_that_matter_mat, \"G3\")"
   ]
  },
  {
   "cell_type": "markdown",
   "id": "8d12d040-3282-4ad8-b20f-af9207a62c42",
   "metadata": {},
   "source": [
    "**Turning grades into categorical letter grades**"
   ]
  },
  {
   "cell_type": "code",
   "execution_count": null,
   "id": "832f0aa1-a36d-4d29-afb6-c2d5b0eba889",
   "metadata": {},
   "outputs": [],
   "source": [
    "# Function to assign letter grades\n",
    "def assign_grade(score):\n",
    "    if 16 <= score <= 20:\n",
    "        return 'A'\n",
    "    elif 14 <= score <= 15:\n",
    "        return 'B'\n",
    "    elif 12 <= score <= 13:\n",
    "        return 'C'\n",
    "    elif 10 <= score <= 11:\n",
    "        return 'D'\n",
    "    else:\n",
    "        return 'F'\n",
    "\n",
    "# Apply function to each grading period\n",
    "for col, letter_col in zip([\"G1\", \"G2\", \"G3\"], [\"L1\", \"L2\", \"L3\"]):\n",
    "    student_mat[letter_col] = student_mat[col].apply(assign_grade)\n",
    "    student_por[letter_col] = student_por[col].apply(assign_grade)\n",
    "\n",
    "# Display the updated DataFrame\n",
    "print(student_mat.head())\n",
    "print(student_por.head())"
   ]
  },
  {
   "cell_type": "markdown",
   "id": "8e13735e-bc97-496a-8abb-96bfceb64dad",
   "metadata": {},
   "source": [
    "**Running Chi-Squared Tests for Categorical Vars**"
   ]
  },
  {
   "cell_type": "markdown",
   "id": "52afc4a3-c22c-4357-8b1c-a7cf7b380586",
   "metadata": {},
   "source": [
    "*For student_por data*"
   ]
  },
  {
   "cell_type": "code",
   "execution_count": null,
   "id": "91403fb1-3c6a-4797-8ad7-01b37bf2ea3f",
   "metadata": {},
   "outputs": [],
   "source": [
    "# Variables of interest for student_por df\n",
    "aspects_to_test_por = {\n",
    "    'Student\\'s School and Academic Performance (L3)': ('school', 'L3'),\n",
    "    'Father\\'s Job and Academic Performance (L3)': ('Fjob', 'L3'),\n",
    "    'Activities and Academic Performance (L3)': ('activities', 'L3'),\n",
    "    'Internet and Academic Performance (L3)': ('internet', 'L3'),\n",
    "    'Desire for Higher Education and Academic Performance (L3)': ('higher', 'L3')\n",
    "}\n",
    "\n",
    "por_chi_square_results_por = {aspect: perform_chi_square_test(student_por, *columns) for aspect, columns in aspects_to_test_por.items()}\n",
    "por_chi_square_results_por"
   ]
  },
  {
   "cell_type": "markdown",
   "id": "3c438a52-a08d-4ad3-99b7-b97459491839",
   "metadata": {},
   "source": [
    "*For student_mat data*"
   ]
  },
  {
   "cell_type": "code",
   "execution_count": null,
   "id": "027ed974-8185-4e17-b690-c22244d56370",
   "metadata": {},
   "outputs": [],
   "source": [
    "# Variables of interest for student_por df\n",
    "aspects_to_test_mat = {\n",
    "    'Mothers\\'s Job and Academic Performance (L3)': ('Mjob', 'L1'),\n",
    "    'Father\\'s Job and Academic Performance (L3)': ('Fjob', 'L1'),\n",
    "    'Extra Educational Support and Academic Performance (L3)': ('activities', 'L3'),\n",
    "    'Desire for Higher Education and Academic Performance (L3)': ('higher', 'L3')\n",
    "}\n",
    "\n",
    "por_chi_square_results_mat = {aspect: perform_chi_square_test(student_mat, *columns) for aspect, columns in aspects_to_test_mat.items()}\n",
    "por_chi_square_results_mat"
   ]
  },
  {
   "cell_type": "markdown",
   "id": "dfc76cbe-bf1a-4d72-aefe-e2aa986043c7",
   "metadata": {},
   "source": [
    "**1. First Split the data into training (75%) and testing (25%).**"
   ]
  },
  {
   "cell_type": "code",
   "execution_count": null,
   "id": "6e12c0bb-b181-42bd-8c23-b5534fde7a5d",
   "metadata": {},
   "outputs": [],
   "source": [
    "# List of statistically significant predictors\n",
    "sig_cat = ['Mjob', 'Fjob', 'schoolsup', 'higher']\n",
    "sig_num = ['studytime', 'failures']\n",
    "\n",
    "# making a subset of the singificant numerical variables\n",
    "mat_sig_num = student_mat[sig_num]\n",
    "mat_sig_cat = student_mat[sig_cat]\n",
    "\n",
    "grades = student_mat['G3']\n",
    "\n",
    "# set seed using random_state = 4\n",
    "num_train, num_test, grade_train, grade_test = train_test_split(mat_sig_num, grades, random_state = 4)\n",
    "cat_train, cat_test, grade_train, grade_test = train_test_split(mat_sig_cat, grades, random_state = 4)"
   ]
  },
  {
   "cell_type": "code",
   "execution_count": null,
   "id": "877c2d27-4a22-4c87-ac3e-2575c337781e",
   "metadata": {},
   "outputs": [],
   "source": [
    "# 75% Numerical Vars TRAIN SPLIT\n",
    "print(\"Num_train:\", num_train)"
   ]
  },
  {
   "cell_type": "code",
   "execution_count": null,
   "id": "3a4db9f9-430f-4a11-8402-a7ede9254040",
   "metadata": {},
   "outputs": [],
   "source": [
    "# 75% Grades TRAIN SPLIT\n",
    "print(\"grade_test:\", grade_train)"
   ]
  },
  {
   "cell_type": "markdown",
   "id": "04d6342c-979f-48e7-8fcf-ef5ea302f880",
   "metadata": {},
   "source": [
    "**2. Fit multiple linear regression models with the traning sets for numerical variables**"
   ]
  },
  {
   "cell_type": "code",
   "execution_count": null,
   "id": "d341a000-7504-4baf-86ae-252729050470",
   "metadata": {},
   "outputs": [],
   "source": [
    "model = LinearRegression()  # Create an instance of LinearRegression\n",
    "model.fit(num_train, grade_train)  # Fit the model with training data\n",
    "\n",
    "r_sq = model.score(num_train, grade_train)\n",
    "print(f\"coefficient of determination: {r_sq}\")"
   ]
  },
  {
   "cell_type": "code",
   "execution_count": null,
   "id": "be2ef293-6d95-4183-907f-0b5d9c631ecd",
   "metadata": {},
   "outputs": [],
   "source": [
    "model_test = LinearRegression()  # Create an instance of LinearRegression\n",
    "model_test.fit(num_test, grade_test)  # Fit the model with training data\n",
    "\n",
    "r_sq = model_test.score(num_test, grade_test)\n",
    "print(f\"coefficient of determination: {r_sq}\")"
   ]
  },
  {
   "cell_type": "markdown",
   "id": "ef140a11-9996-4635-a038-4aa6e1801df7",
   "metadata": {},
   "source": [
    "**3. Categorical Variables**"
   ]
  },
  {
   "cell_type": "code",
   "execution_count": null,
   "id": "33df27b3-7a18-4680-bf4e-0084152260df",
   "metadata": {},
   "outputs": [],
   "source": [
    "# Define categorical and numerical columns\n",
    "categorical_cols = ['Mjob', 'Fjob']\n",
    "binary_cols = ['schoolsup', 'higher']\n",
    "\n",
    "# One-Hot Encode nominal variables, and encode binary as 0/1\n",
    "preprocessor = ColumnTransformer([\n",
    "    ('onehot', OneHotEncoder(drop='first'), categorical_cols),  # Avoid dummy variable trap\n",
    "    ('binary', 'passthrough', binary_cols)  # Keep binary columns as they are for now\n",
    "])\n",
    "\n",
    "# Transform categorical variables\n",
    "data_transformed = preprocessor.fit_transform(student_mat)\n",
    "\n",
    "# Convert binary columns to 0/1\n",
    "student_mat[binary_cols] = student_mat[binary_cols].replace({'yes': 1, 'no': 0})\n",
    "\n",
    "# Convert transformed data back to DataFrame\n",
    "encoded_df = pd.DataFrame(data_transformed, columns=preprocessor.get_feature_names_out())\n",
    "\n",
    "# Combine transformed features with binary variables\n",
    "x = pd.concat([encoded_df, student_mat[binary_cols]], axis=1)\n",
    "y = student_mat['G3']\n"
   ]
  },
  {
   "cell_type": "markdown",
   "id": "36acb67f-9bb3-47f0-bab5-f99108e4180c",
   "metadata": {},
   "source": [
    "# Spaghetti at the wall method."
   ]
  },
  {
   "cell_type": "code",
   "execution_count": 191,
   "id": "16b88668-05e6-424b-a067-9a41900eff46",
   "metadata": {},
   "outputs": [],
   "source": [
    "# List of important numerical and categorical predictors\n",
    "\n",
    "# including G1 and G2 because they are highly correlated with G3 grades\n",
    "# ie. students who have good grades in the first and second trimester are likely to continue to have good grades\n",
    "\n",
    "# looking at boxplots - from above, we saw these numerical and categorical variables as being significantly correlated with G3\n",
    "\n",
    "sig_num = ['G1', 'G2', 'studytime', 'failures', 'Medu', 'Fedu']\n",
    "sig_cat = ['Mjob', 'Fjob', 'schoolsup', 'higher']\n",
    "\n",
    "# Subset the dataset with these variables\n",
    "mat_sig_num = student_mat[sig_num]\n",
    "mat_sig_cat = student_mat[sig_cat]\n",
    "\n",
    "grades = student_mat['G3']\n"
   ]
  },
  {
   "cell_type": "code",
   "execution_count": 192,
   "id": "50341b18-fff6-40b0-8cb4-584f2505104f",
   "metadata": {},
   "outputs": [],
   "source": [
    "# Train-test split (set seed for reproducibility)\n",
    "num_train, num_test, grade_train, grade_test = train_test_split(mat_sig_num, grades, random_state=4)\n",
    "cat_train, cat_test, grade_train, grade_test = train_test_split(mat_sig_cat, grades, random_state=4)\n",
    "\n",
    "# One-Hot Encode categorical variables\n",
    "encoder = OneHotEncoder(drop='first', sparse_output=False)  # Avoid dummy variable trap\n",
    "cat_train_encoded = encoder.fit_transform(cat_train)\n",
    "cat_test_encoded = encoder.transform(cat_test)\n",
    "\n",
    "# Convert to DataFrame for easy merging\n",
    "cat_train_df = pd.DataFrame(cat_train_encoded, columns=encoder.get_feature_names_out())\n",
    "cat_test_df = pd.DataFrame(cat_test_encoded, columns=encoder.get_feature_names_out())\n",
    "\n",
    "# Merge numerical and encoded categorical data\n",
    "X_train = pd.concat([num_train.reset_index(drop=True), cat_train_df.reset_index(drop=True)], axis=1)\n",
    "X_test = pd.concat([num_test.reset_index(drop=True), cat_test_df.reset_index(drop=True)], axis=1)\n"
   ]
  },
  {
   "cell_type": "code",
   "execution_count": 195,
   "id": "b207ff34-984e-4606-84bc-7534256bd786",
   "metadata": {},
   "outputs": [
    {
     "name": "stdout",
     "output_type": "stream",
     "text": [
      "Model with Numerical Features R²: 0.8614\n",
      "Model with Categorical Features R²: -0.0408\n",
      "Model with Full Features R²: 0.8562\n"
     ]
    }
   ],
   "source": [
    "# Model with only numerical features\n",
    "model_num = LinearRegression().fit(num_train, grade_train)\n",
    "\n",
    "# Model with only categorical features (encoded)\n",
    "model_cat = LinearRegression().fit(cat_train_encoded, grade_train)\n",
    "\n",
    "# Model with both numerical and categorical features (merged)\n",
    "model_full = LinearRegression().fit(X_train, grade_train)\n",
    "\n",
    "# Make predictions for each model on the test set\n",
    "grade_pred_num = model_num.predict(num_test)\n",
    "grade_pred_cat = model_cat.predict(cat_test_encoded)\n",
    "grade_pred_full = model_full.predict(X_test)\n",
    "\n",
    "# Evaluate each model's performance\n",
    "r2_num = r2_score(grade_test, grade_pred_num)\n",
    "r2_cat = r2_score(grade_test, grade_pred_cat)\n",
    "r2_full = r2_score(grade_test, grade_pred_full)\n",
    "\n",
    "print(f\"Model with Numerical Features R²: {r2_num:.4f}\")\n",
    "print(f\"Model with Categorical Features R²: {r2_cat:.4f}\")\n",
    "print(f\"Model with Full Features R²: {r2_full:.4f}\")\n"
   ]
  },
  {
   "cell_type": "code",
   "execution_count": 193,
   "id": "d3b2b1ec-f7e1-41a0-a8c2-452d774be000",
   "metadata": {},
   "outputs": [
    {
     "name": "stdout",
     "output_type": "stream",
     "text": [
      "R² Score: 0.856\n",
      "Mean Squared Error: 3.23\n"
     ]
    }
   ],
   "source": [
    "# Train the model\n",
    "model = LinearRegression()\n",
    "model.fit(X_train, grade_train)\n",
    "\n",
    "# Make predictions and evaluate\n",
    "grade_pred = model.predict(X_test)\n",
    "\n",
    "# Evaluate model performance\n",
    "r2 = r2_score(grade_test, grade_pred)\n",
    "mse = mean_squared_error(grade_test, grade_pred)\n",
    "\n",
    "print(f\"R² Score: {r2:.3f}\")\n",
    "print(f\"Mean Squared Error: {mse:.2f}\")"
   ]
  },
  {
   "cell_type": "code",
   "execution_count": 194,
   "id": "ab55c4bc-655b-4c0f-bfd2-7f4f3288328f",
   "metadata": {},
   "outputs": [
    {
     "name": "stdout",
     "output_type": "stream",
     "text": [
      "          Feature  Coefficient\n",
      "10    Fjob_health     0.999959\n",
      "1              G2     0.958424\n",
      "11     Fjob_other     0.439957\n",
      "14  schoolsup_yes     0.402303\n",
      "8   Mjob_services     0.386668\n",
      "7      Mjob_other     0.230894\n",
      "0              G1     0.177222\n",
      "4            Medu     0.160804\n",
      "9    Mjob_teacher     0.137574\n",
      "13   Fjob_teacher     0.098957\n",
      "6     Mjob_health    -0.031346\n",
      "5            Fedu    -0.070854\n",
      "12  Fjob_services    -0.105433\n",
      "3        failures    -0.130003\n",
      "2       studytime    -0.189058\n",
      "15     higher_yes    -0.410695\n"
     ]
    }
   ],
   "source": [
    "feature_importance = pd.DataFrame({'Feature': X_train.columns, 'Coefficient': model.coef_})\n",
    "feature_importance = feature_importance.sort_values(by='Coefficient', ascending=False)\n",
    "\n",
    "print(feature_importance)\n"
   ]
  },
  {
   "cell_type": "code",
   "execution_count": 197,
   "id": "f998d502-43cb-4c53-b275-a1a97f37cfb1",
   "metadata": {},
   "outputs": [
    {
     "name": "stdout",
     "output_type": "stream",
     "text": [
      "Root Mean Squared Error (RMSE): 1.80\n"
     ]
    }
   ],
   "source": [
    "# Step 1: Make predictions on the test set\n",
    "grade_pred = model.predict(X_test)\n",
    "\n",
    "# Step 2: Compute Mean Squared Error (MSE)\n",
    "mse = mean_squared_error(grade_test, grade_pred)\n",
    "\n",
    "# Step 3: Compute Root Mean Squared Error (RMSE)\n",
    "rmse = np.sqrt(mse)\n",
    "\n",
    "# Output the RMSE value\n",
    "print(f\"Root Mean Squared Error (RMSE): {rmse:.2f}\")\n"
   ]
  }
 ],
 "metadata": {
  "kernelspec": {
   "display_name": "Python 3 (ipykernel)",
   "language": "python",
   "name": "python3"
  },
  "language_info": {
   "codemirror_mode": {
    "name": "ipython",
    "version": 3
   },
   "file_extension": ".py",
   "mimetype": "text/x-python",
   "name": "python",
   "nbconvert_exporter": "python",
   "pygments_lexer": "ipython3",
   "version": "3.11.9"
  }
 },
 "nbformat": 4,
 "nbformat_minor": 5
}
