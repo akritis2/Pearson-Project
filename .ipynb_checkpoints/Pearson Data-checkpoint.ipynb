{
 "cells": [
  {
   "cell_type": "code",
   "execution_count": null,
   "id": "0648da2c-a32b-4457-b444-9b816498f15a",
   "metadata": {},
   "outputs": [],
   "source": [
    "import pandas as pd\n",
    "import matplotlib.pyplot as plt\n",
    "import seaborn as sns\n",
    "from scipy.stats import chi2_contingency\n",
    "import numpy as np\n",
    "\n",
    "# Load datasets\n",
    "student_mat = pd.read_table('/home/ics-home/Pearson Proj/Pearson/datasets/student-mat.csv', sep=\";\")\n",
    "student_por = pd.read_table('/home/ics-home/Pearson Proj/Pearson/datasets/student-por.csv', sep=\";\")"
   ]
  },
  {
   "cell_type": "code",
   "execution_count": null,
   "id": "f84f8ec8-1c25-4f17-a59a-ac6a03e61e06",
   "metadata": {},
   "outputs": [],
   "source": [
    "# Print student-mat db\n",
    "print(student_mat)"
   ]
  },
  {
   "cell_type": "code",
   "execution_count": null,
   "id": "70d921e3-9cfc-4003-ade3-ae0ff072eb62",
   "metadata": {},
   "outputs": [],
   "source": [
    "# Print student-por db\n",
    "print(student_por)"
   ]
  },
  {
   "cell_type": "code",
   "execution_count": null,
   "id": "54e339de-5f6d-4903-a883-cd0dde2c76c6",
   "metadata": {},
   "outputs": [],
   "source": [
    "# Creating a histogram for single variable\n",
    "student_mat['G1'].plot(kind='hist', bins=20, figsize=(10, 6), color='blue', alpha=0.7)\n",
    "plt.title('Histogram of G1')\n",
    "plt.xlabel('Grade')\n",
    "plt.ylabel('Frequency')\n",
    "plt.show()"
   ]
  },
  {
   "cell_type": "code",
   "execution_count": null,
   "id": "c6a0669d-21d6-42c8-a7a6-0022969c5866",
   "metadata": {
    "scrolled": true
   },
   "outputs": [],
   "source": [
    "student_mat.describe()"
   ]
  },
  {
   "cell_type": "code",
   "execution_count": null,
   "id": "8d18259b-d38e-4c1b-9a62-7d28215420fa",
   "metadata": {},
   "outputs": [],
   "source": [
    "student_por.describe()\n",
    "\n",
    "**Histograms for all numeric columns in student-mat.**"
   ]
  },
  {
   "cell_type": "code",
   "execution_count": null,
   "id": "e1ec942c-8261-4353-8dc8-d4dc6757b157",
   "metadata": {
    "scrolled": true
   },
   "outputs": [],
   "source": [
    "# Can make individual ones or one for each numeric column\n",
    "# x-axis is the value and y-axis is the count\n",
    "student_mat.hist(bins=20, figsize=(15, 10), color='green', alpha=0.5)\n",
    "plt.suptitle('Histograms for All Numeric Columns in Student-Mat')\n",
    "plt.show()"
   ]
  },
  {
   "cell_type": "markdown",
   "id": "e355520b-5992-4c29-84e7-5a140b9a5dac",
   "metadata": {},
   "source": [
    "**Boxplots for all numeric columns in student-mat.**"
   ]
  },
  {
   "cell_type": "code",
   "execution_count": null,
   "id": "a61051a9-c9bc-4e88-9aab-d7e3cb4137ff",
   "metadata": {
    "scrolled": true
   },
   "outputs": [],
   "source": [
    "# Box Plots for all numeric columns\n",
    "student_mat.boxplot(figsize=(12, 8), vert=False)\n",
    "plt.title('Horizontal Box Plots for All Numeric Columns in Student-Mat')\n",
    "plt.xlabel('Values')\n",
    "plt.ylabel('Columns')\n",
    "plt.show()"
   ]
  },
  {
   "cell_type": "code",
   "execution_count": null,
   "id": "1ed9fb24-b495-44d3-8d00-d526cfec4045",
   "metadata": {},
   "outputs": [],
   "source": [
    "# There was a student with 75 absences???\n",
    "student_mat[\"absences\"].max()"
   ]
  },
  {
   "cell_type": "markdown",
   "id": "ed89f230-ecf3-4e20-bc73-7a695b1cee3f",
   "metadata": {},
   "source": [
    "**Histograms for all numeric columns in student-mat.**"
   ]
  },
  {
   "cell_type": "code",
   "execution_count": null,
   "id": "9e7e2728-8ed4-4058-ace0-18c5e34f06f8",
   "metadata": {
    "scrolled": true
   },
   "outputs": [],
   "source": [
    "# Can make individual ones or one for each numeric column\n",
    "# x-axis is the value and y-axis is the count\n",
    "student_por.hist(bins=20, figsize=(15, 10), color='green', alpha=0.5)\n",
    "plt.suptitle('Histograms for All Numeric Columns in Student-Por')\n",
    "plt.show()"
   ]
  },
  {
   "cell_type": "markdown",
   "id": "e0ad7f78-a4d7-43e6-9cc8-c7a47ad3c7a6",
   "metadata": {},
   "source": [
    "**Boxplots for all numeric columns in student-mat.**"
   ]
  },
  {
   "cell_type": "code",
   "execution_count": null,
   "id": "574b8fe1-445c-4d0a-b581-701e0a8280d6",
   "metadata": {
    "scrolled": true
   },
   "outputs": [],
   "source": [
    "# Box Plots for all numeric columns\n",
    "student_por.boxplot(figsize=(12, 8), vert=False)\n",
    "plt.title('Horizontal Box Plots for All Numeric Columns in Student-Por')\n",
    "plt.xlabel('Values')\n",
    "plt.ylabel('Columns')\n",
    "plt.show()"
   ]
  },
  {
   "cell_type": "markdown",
   "id": "5bca1506-393c-4ef2-b057-7b283c31e704",
   "metadata": {},
   "source": [
    "***The values in the numeric columns of student-por fall in a smaller range than student-mat***"
   ]
  },
  {
   "cell_type": "markdown",
   "id": "c6400151-3085-4e20-9742-ddef19b99c0f",
   "metadata": {},
   "source": [
    "2. Using bar charts to compare average grades accross diff categories"
   ]
  },
  {
   "cell_type": "code",
   "execution_count": null,
   "id": "16e1e6ea-12c8-4156-9485-7f31c5a4acb9",
   "metadata": {
    "scrolled": true
   },
   "outputs": [],
   "source": [
    "# Gender\n",
    "gender_avg = student_mat.groupby('sex')['G1'].mean()\n",
    "gender_avg.plot(kind='bar', color=['blue', 'orange'], figsize=(8, 6))\n",
    "plt.title('Average Grades by Sex')\n",
    "plt.xlabel('Sex')\n",
    "plt.ylabel('Average Grade')\n",
    "plt.xticks(rotation=0)\n",
    "plt.show()"
   ]
  },
  {
   "cell_type": "code",
   "execution_count": null,
   "id": "146b96bc-3b44-4947-8c3c-ffc84e312d60",
   "metadata": {
    "scrolled": true
   },
   "outputs": [],
   "source": [
    "# Parent Edu\n",
    "medu_avg = student_mat.groupby('Medu')['G1'].mean()\n",
    "medu_avg.plot(kind='bar', figsize=(8, 6))\n",
    "plt.title('Average Grades by Mothers Education')\n",
    "plt.xlabel('Mothers Education')\n",
    "plt.ylabel('Average Grade')\n",
    "plt.xticks(rotation=0)\n",
    "plt.show()"
   ]
  },
  {
   "cell_type": "code",
   "execution_count": null,
   "id": "fed5e46e-4704-4b69-bc4a-19dd16702637",
   "metadata": {
    "scrolled": true
   },
   "outputs": [],
   "source": [
    "walc_avg = student_mat.groupby('Walc')['G1'].mean()\n",
    "walc_avg.plot(kind='bar', figsize=(8, 6))\n",
    "plt.title('Average Grades by Weekend Alc Comsumption')\n",
    "plt.xlabel('Weekly Alc Consumption')\n",
    "plt.ylabel('Average Grade')\n",
    "plt.xticks(rotation=0)\n",
    "plt.show()"
   ]
  },
  {
   "cell_type": "code",
   "execution_count": null,
   "id": "3e2d21fa-ef1b-4810-bbf3-6f66ea2db4df",
   "metadata": {
    "scrolled": true
   },
   "outputs": [],
   "source": [
    "plt.figure(figsize=(8, 6))\n",
    "sns.boxplot(data=student_mat, x='Walc', y='G1', palette='Blues')\n",
    "plt.title('Grades by Walc')\n",
    "plt.xlabel('Walc')\n",
    "plt.ylabel('Grades')\n",
    "plt.show()"
   ]
  },
  {
   "cell_type": "code",
   "execution_count": null,
   "id": "8e8ade41-3b54-4d00-927b-062feb50c049",
   "metadata": {
    "scrolled": true
   },
   "outputs": [],
   "source": [
    "plt.figure(figsize=(8, 6))\n",
    "sns.boxplot(data=student_mat, x='Dalc', y='G1', palette='Blues')\n",
    "plt.title('Grades by Dalc')\n",
    "plt.xlabel('Dalc')\n",
    "plt.ylabel('Grades')\n",
    "plt.show()"
   ]
  },
  {
   "cell_type": "code",
   "execution_count": null,
   "id": "50cbe5fa-f341-422c-a983-b2a1b93b617c",
   "metadata": {
    "scrolled": true
   },
   "outputs": [],
   "source": [
    "plt.figure(figsize=(8, 6))\n",
    "sns.boxplot(data=student_mat, x='romantic', y='G1', palette='Purples')\n",
    "plt.title('Grades by Romantic')\n",
    "plt.xlabel('Romantic Relationship (Yes/No)')\n",
    "plt.ylabel('Grades')\n",
    "plt.show()"
   ]
  },
  {
   "cell_type": "markdown",
   "id": "c1417ffc-26cc-4dee-b60f-8c3912b4ea8a",
   "metadata": {},
   "source": [
    "Upper quartile for student's without romantic relationships is higher than those with romantic relationships."
   ]
  },
  {
   "cell_type": "code",
   "execution_count": null,
   "id": "5d421265-ae5c-4374-9378-66b3aa499bca",
   "metadata": {
    "scrolled": true
   },
   "outputs": [],
   "source": [
    "# Filtered Student Portuguese\n",
    "filtered_student_por_high_grades = student_por[student_por[\"G1\"] > 14]\n",
    "filtered_student_por_high_grades.hist(bins=20, figsize=(15, 10), color='green', alpha=0.5)\n",
    "\n",
    "plt.suptitle('Histograms for Numeric Columns (G1 > 14)')\n",
    "plt.show()"
   ]
  },
  {
   "cell_type": "code",
   "execution_count": null,
   "id": "93bdac2b-3d09-4ce5-8698-95703e2cd2b1",
   "metadata": {
    "scrolled": true
   },
   "outputs": [],
   "source": [
    "# Filtered Student Portuguese\n",
    "filtered_student_por_low_grades = student_por[student_por[\"G1\"] <= 14]\n",
    "filtered_student_por_low_grades.hist(bins=20, figsize=(15, 10), color='green', alpha=0.5)\n",
    "\n",
    "plt.suptitle('Histograms for Numeric Columns (G1 <= 14)')\n",
    "plt.show()"
   ]
  },
  {
   "cell_type": "code",
   "execution_count": null,
   "id": "829e7b0d-b87f-451d-aaf2-74825d69040c",
   "metadata": {
    "scrolled": true
   },
   "outputs": [],
   "source": [
    "# Filtered Student Math\n",
    "filtered_student_mat_high_grades = student_mat[student_mat[\"G1\"] > 14]\n",
    "filtered_student_mat_high_grades.hist(bins=20, figsize=(15, 10), color='green', alpha=0.5)\n",
    "\n",
    "plt.suptitle('Histograms for Numeric Columns (G1 > 14)')\n",
    "plt.show()"
   ]
  },
  {
   "cell_type": "code",
   "execution_count": null,
   "id": "c5f78ae1-bce7-4d2d-a92f-3ced49d28001",
   "metadata": {
    "scrolled": true
   },
   "outputs": [],
   "source": [
    "# Filtered Student Math\n",
    "filtered_student_por_low_grades = student_mat[student_mat[\"G1\"] <= 14]\n",
    "filtered_student_por_low_grades.hist(bins=20, figsize=(15, 10), color='green', alpha=0.5)\n",
    "\n",
    "plt.suptitle('Histograms for Numeric Columns (G1 <= 14)')\n",
    "plt.show()"
   ]
  },
  {
   "cell_type": "code",
   "execution_count": null,
   "id": "ab9f92e2-d65c-4c36-acb9-dcb6c92cdbc3",
   "metadata": {
    "scrolled": true
   },
   "outputs": [],
   "source": [
    "# Count occurrences of each grade per gender\n",
    "grade_counts = student_mat.groupby('Walc')['G1'].value_counts().unstack()\n",
    "\n",
    "# Plot bar chart\n",
    "grade_counts.T.plot(kind='bar', figsize=(12, 6))\n",
    "\n",
    "plt.title('Distribution of G1 Grades by Walc')\n",
    "plt.xlabel('G1 Grade')\n",
    "plt.ylabel('Number of Students')\n",
    "plt.legend(title='Walc')\n",
    "plt.xticks(rotation=0)\n",
    "plt.show()"
   ]
  },
  {
   "cell_type": "code",
   "execution_count": null,
   "id": "bf2e54e2-2b4c-4895-9b1e-c0132fe89b0f",
   "metadata": {},
   "outputs": [],
   "source": [
    "def perform_chi_square_test(data, col1, col2):\n",
    "    # creating contingency table\n",
    "    contingency_table = pd.crosstab(data[col1], data[col2])\n",
    "\n",
    "    # performing the chi-square test\n",
    "    chi2, p, dof, expected = chi2_contingency(contingency_table)\n",
    "\n",
    "    # interpreting the result\n",
    "    significant = p < 0.05 #5% significance level\n",
    "    return chi2, p, significant\n",
    "\n",
    "aspects_to_test = {\n",
    "    'School Support and Academic Performance': ('schoolsup', 'G1'),\n",
    "    'Extra Classes and Academic Performance': ('paid', 'G1')\n",
    "}\n",
    "\n",
    "por_chi_square_results = {aspect: perform_chi_square_test(student_por, *columns) for aspect, columns in aspects_to_test.items()}\n",
    "por_chi_square_results"
   ]
  },
  {
   "cell_type": "markdown",
   "id": "4493f053-958c-46d0-8910-fe2a8a298a07",
   "metadata": {},
   "source": [
    "something\n"
   ]
  },
  {
   "cell_type": "markdown",
   "id": "54e0c46b-2238-4202-ad42-24505549b274",
   "metadata": {},
   "source": [
    "**Boxplots of grades (G1, G2, G3) across the categorical variables.**"
   ]
  },
  {
   "cell_type": "code",
   "execution_count": null,
   "id": "430a5b98-419b-48b3-8342-a1524b6f493b",
   "metadata": {
    "scrolled": true
   },
   "outputs": [],
   "source": [
    "# list of categorical variables\n",
    "categorical_vars = [\n",
    "    \"sex\", \"school\", \"address\", \"Pstatus\", \"Mjob\", \"Fjob\", \"guardian\", \n",
    "    \"famsize\", \"reason\", \"schoolsup\", \"famsup\", \"activities\", \"paid\", \n",
    "    \"internet\", \"nursery\", \"higher\", \"romantic\"\n",
    "]\n",
    "\n",
    "# Grades to analyze\n",
    "grades = [\"G1\", \"G2\", \"G3\"]\n",
    "\n",
    "# Plot boxplots\n",
    "for cat in categorical_vars:\n",
    "    for grade in grades:\n",
    "        plt.figure(figsize=(6, 4))\n",
    "        sns.boxplot(x=cat, y=grade, data=student_mat)\n",
    "        plt.title(f\"Boxplot of {grade} by {cat}\")\n",
    "        plt.xlabel(cat)\n",
    "        plt.ylabel(grade)\n",
    "        plt.xticks(rotation=45)  # Rotate labels if necessary\n",
    "        plt.show()"
   ]
  },
  {
   "cell_type": "markdown",
   "id": "6ba96439-0082-4436-8d7e-676b63ffcbff",
   "metadata": {},
   "source": [
    "**scatterplots of grades for all categorical variables**"
   ]
  },
  {
   "cell_type": "code",
   "execution_count": null,
   "id": "03648831-531c-47c2-a382-42ffb1155877",
   "metadata": {
    "scrolled": true
   },
   "outputs": [],
   "source": [
    "# List of categorical variables\n",
    "categorical_vars = [\n",
    "    \"age\", \"Medu\", \"Fedu\", \"famrel\", \"traveltime\", \"studytime\", \"failures\", \n",
    "    \"freetime\", \"goout\", \"Walc\", \"Dalc\", \"health\", \"absences\"\n",
    "]\n",
    "\n",
    "# Create scatterplots for each numeric variable vs each grade\n",
    "for num_var in categorical_vars:\n",
    "    for grade in grades:\n",
    "        plt.figure(figsize=(6, 4))\n",
    "        sns.scatterplot(x=student_mat[num_var], y=student_mat[grade], alpha=0.6)\n",
    "        plt.title(f\"Scatterplot of {grade} vs {num_var}\")\n",
    "        plt.xlabel(num_var)\n",
    "        plt.ylabel(grade)\n",
    "        plt.show()"
   ]
  },
  {
   "cell_type": "code",
   "execution_count": null,
   "id": "052d29af-ca9a-45f7-959d-cec97db8b460",
   "metadata": {
    "scrolled": true
   },
   "outputs": [],
   "source": [
    "# Create boxplots for each numeric variable vs grades\n",
    "for num_var in categorical_vars:\n",
    "    for grade in grades:\n",
    "        plt.figure(figsize=(6, 4))\n",
    "        sns.boxplot(x=student_mat[num_var].astype(str), y=student_mat[grade])\n",
    "        plt.title(f\"Boxplot of {grade} vs {num_var}\")\n",
    "        plt.xlabel(num_var)\n",
    "        plt.ylabel(grade)\n",
    "        plt.show()"
   ]
  }
 ],
 "metadata": {
  "kernelspec": {
   "display_name": "Python 3 (ipykernel)",
   "language": "python",
   "name": "python3"
  },
  "language_info": {
   "codemirror_mode": {
    "name": "ipython",
    "version": 3
   },
   "file_extension": ".py",
   "mimetype": "text/x-python",
   "name": "python",
   "nbconvert_exporter": "python",
   "pygments_lexer": "ipython3",
   "version": "3.11.9"
  }
 },
 "nbformat": 4,
 "nbformat_minor": 5
}
