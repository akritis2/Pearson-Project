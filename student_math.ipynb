{
 "cells": [
  {
   "cell_type": "markdown",
   "id": "8b119db8-5ad3-4359-876c-bce1f021fd11",
   "metadata": {},
   "source": [
    "# ALL IMPORTS"
   ]
  },
  {
   "cell_type": "code",
   "execution_count": 49,
   "id": "a2757ad1-3e05-4cf4-84f7-1736ca785101",
   "metadata": {},
   "outputs": [],
   "source": [
    "import pandas as pd\n",
    "import matplotlib.pyplot as plt\n",
    "import seaborn as sns\n",
    "import scipy.stats as stats\n",
    "from scipy.stats import chi2_contingency\n",
    "import numpy as np\n",
    "from sklearn.linear_model import LinearRegression\n",
    "from sklearn.model_selection import train_test_split\n",
    "from sklearn.preprocessing import OneHotEncoder\n",
    "from sklearn.metrics import mean_squared_error, r2_score"
   ]
  },
  {
   "cell_type": "markdown",
   "id": "b27f78d7-9b17-48f0-be3e-e3098ab6732f",
   "metadata": {},
   "source": [
    "## Loading in dataset..."
   ]
  },
  {
   "cell_type": "code",
   "execution_count": null,
   "id": "bd47f0fd-ea15-456d-a9fa-b8f25685ffc9",
   "metadata": {},
   "outputs": [],
   "source": [
    "student_mat = pd.read_table('/home/ics-home/Pearson Proj/Pearson/datasets/student-mat.csv', sep=\";\")"
   ]
  },
  {
   "cell_type": "code",
   "execution_count": null,
   "id": "21b5a762-77c9-4961-98ad-fb024925f47e",
   "metadata": {},
   "outputs": [],
   "source": [
    "# Taking a quick look\n",
    "print(student_mat)"
   ]
  },
  {
   "cell_type": "markdown",
   "id": "c7bff5d3-73d6-4b17-bf0b-dbe0d47caf80",
   "metadata": {},
   "source": [
    "## 1. Initial look at the dataframe"
   ]
  },
  {
   "cell_type": "markdown",
   "id": "29a7a193-ac51-4c97-b58e-a2d0a458c6e8",
   "metadata": {},
   "source": [
    "**Histograms for Quantitative Variables**"
   ]
  },
  {
   "cell_type": "code",
   "execution_count": null,
   "id": "5939f277-862c-4dca-9659-139e49fffcb3",
   "metadata": {},
   "outputs": [],
   "source": [
    "# Can make individual ones or one for each numeric column\n",
    "# x-axis is the value and y-axis is the count\n",
    "student_mat.hist(bins=20, figsize=(15, 10), color='green', alpha=0.5)\n",
    "plt.suptitle('Histograms for All Numeric Columns in Math df')\n",
    "plt.show()"
   ]
  },
  {
   "cell_type": "markdown",
   "id": "7a554f31-4ed3-41b9-82ac-afb7e9ed7077",
   "metadata": {},
   "source": [
    "## 2. Visualising Categorical and Quantitaive Vars. vs G3"
   ]
  },
  {
   "cell_type": "markdown",
   "id": "f4596762-ae2f-4802-bc40-c956025d8b4f",
   "metadata": {},
   "source": [
    "**i. Boxplots for Categorical Variables vs G3**"
   ]
  },
  {
   "cell_type": "code",
   "execution_count": null,
   "id": "986f9258-7fd5-48cd-9e9f-b596b579313c",
   "metadata": {
    "scrolled": true
   },
   "outputs": [],
   "source": [
    "# List of Categorical Variables in Math df\n",
    "cat_vars = [\n",
    "    'sex', 'school', 'address', \n",
    "    'Pstatus', 'Mjob', 'Fjob', \n",
    "    'guardian', 'famsize', 'reason', \n",
    "    'schoolsup', 'famsup', 'activities', \n",
    "    'paid', 'internet', 'nursery', \n",
    "    'higher', 'romantic'\n",
    "]\n",
    "\n",
    "for cat_var in cat_vars:\n",
    "    plt.figure(figsize=(8, 6))\n",
    "    sns.boxplot(data=student_mat, x=cat_var, y='G3')\n",
    "    plt.title(f\"G3 by {cat_var}\")\n",
    "    plt.xlabel(f\"{cat_var}\")\n",
    "    plt.ylabel('G3')\n",
    "    plt.show()"
   ]
  },
  {
   "cell_type": "markdown",
   "id": "a0b567b9-7567-43dd-abbc-95ed436b4ebc",
   "metadata": {},
   "source": [
    "**ii. Bar Graphs for Quantitative Variables vs G3**"
   ]
  },
  {
   "cell_type": "code",
   "execution_count": null,
   "id": "505705be-6841-4655-8f39-8446a83f8ad5",
   "metadata": {
    "scrolled": true
   },
   "outputs": [],
   "source": [
    "# List of Numerical Vars in Math df\n",
    "quan_vars = [\n",
    "    \"age\", \"Medu\", \"Fedu\", \"famrel\", \"traveltime\", \"studytime\", \"failures\", \n",
    "    \"freetime\", \"goout\", \"Walc\", \"Dalc\", \"health\", \"absences\", \"G1\", \"G2\"\n",
    "]\n",
    "\n",
    "for quan_var in quan_vars:\n",
    "    g3_means = student_mat.groupby(quan_var)['G3'].mean()\n",
    "    g3_means.plot(kind='bar', title=f\"Average G3 Score by {quan_var}\", figsize=(8,5))\n",
    "    plt.xlabel(f\"{quan_var}\")\n",
    "    plt.ylabel('Average G3 Score')\n",
    "    plt.show()"
   ]
  },
  {
   "cell_type": "markdown",
   "id": "7162464a-b18b-4c75-882c-c81c407bffda",
   "metadata": {},
   "source": [
    "**ii. Boxplots for Quantitaive Variables vs. G3**"
   ]
  },
  {
   "cell_type": "code",
   "execution_count": null,
   "id": "86bf305d-4325-431e-b335-34f19498483c",
   "metadata": {
    "scrolled": true
   },
   "outputs": [],
   "source": [
    "for quan_var in quan_vars:\n",
    "    plt.figure(figsize=(8, 6))\n",
    "    sns.boxplot(data=student_mat, x=quan_var, y='G3')\n",
    "    plt.title(f\"G3 by {quan_var}\")\n",
    "    plt.xlabel(f\"{quan_var}\")\n",
    "    plt.ylabel('G3')\n",
    "    plt.show()"
   ]
  },
  {
   "cell_type": "markdown",
   "id": "8d9e74bb-a44d-43cb-9fba-58fd78b47819",
   "metadata": {},
   "source": [
    "## 3. Picking vars to focus on"
   ]
  },
  {
   "cell_type": "raw",
   "id": "a5e34e50-4540-4cb0-924c-2897b56ba828",
   "metadata": {},
   "source": [
    "Based on the boxplots (for the categorical variables) and the scatterplots (for the quantitative variables), we decided to focus on the following variables.\n",
    "\n",
    "# CATEGORICAL VARIABLES\n",
    "- school\n",
    "- address\n",
    "- internet\n",
    "- Mjob\n",
    "- Fjob\n",
    "- schoolsup\n",
    "- higher\n",
    "\n",
    "# QUANTITATIVE VARIABLES\n",
    "- age\n",
    "- Medu\n",
    "- Fedu\n",
    "- traveltime\n",
    "- studytime\n",
    "- failures\n",
    "- health\n",
    "- G1\n",
    "- G2"
   ]
  },
  {
   "cell_type": "markdown",
   "id": "82b65e92-b456-445c-bc9f-881d2dd6ec8a",
   "metadata": {},
   "source": [
    "## 4a. Chi-Square Tests on Categorical Vars"
   ]
  },
  {
   "cell_type": "markdown",
   "id": "6b4806d9-8cc4-431b-83ea-e783a60e3329",
   "metadata": {},
   "source": [
    "***For categorical variables, needed to change the G3 scores from integers to letter grades for chi-square test.***"
   ]
  },
  {
   "cell_type": "code",
   "execution_count": 41,
   "id": "c764746f-9fe5-4a4d-ba42-3c346ef9aaea",
   "metadata": {},
   "outputs": [],
   "source": [
    "# Function to assign letter grades\n",
    "def assign_grade(score):\n",
    "    if 16 <= score <= 20:\n",
    "        return 'A'\n",
    "    elif 14 <= score <= 15:\n",
    "        return 'B'\n",
    "    elif 12 <= score <= 13:\n",
    "        return 'C'\n",
    "    elif 10 <= score <= 11:\n",
    "        return 'D'\n",
    "    else:\n",
    "        return 'F'\n",
    "\n",
    "# Apply function to each grading period\n",
    "for col, letter_col in zip([\"G1\", \"G2\", \"G3\"], [\"L1\", \"L2\", \"L3\"]):\n",
    "    student_mat[letter_col] = student_mat[col].apply(assign_grade)"
   ]
  },
  {
   "cell_type": "code",
   "execution_count": 46,
   "id": "4395a027-88c3-4818-9c6f-29765ea1a1ab",
   "metadata": {},
   "outputs": [],
   "source": [
    "# Function for running chi-square test\n",
    "def perform_chi_square_test(data, col1, col2):\n",
    "    # creating contingency table\n",
    "    contingency_table = pd.crosstab(data[col1], data[col2])\n",
    "\n",
    "    # performing the chi-square test\n",
    "    chi2, p, dof, expected = chi2_contingency(contingency_table)\n",
    "\n",
    "    # interpreting the result\n",
    "    significant = p < 0.05 #5% significance level\n",
    "    return chi2, p, significant"
   ]
  },
  {
   "cell_type": "code",
   "execution_count": 56,
   "id": "36a07f88-d85e-49a6-80d1-f070369b347f",
   "metadata": {},
   "outputs": [
    {
     "data": {
      "text/html": [
       "<div>\n",
       "<style scoped>\n",
       "    .dataframe tbody tr th:only-of-type {\n",
       "        vertical-align: middle;\n",
       "    }\n",
       "\n",
       "    .dataframe tbody tr th {\n",
       "        vertical-align: top;\n",
       "    }\n",
       "\n",
       "    .dataframe thead th {\n",
       "        text-align: right;\n",
       "    }\n",
       "</style>\n",
       "<table border=\"1\" class=\"dataframe\">\n",
       "  <thead>\n",
       "    <tr style=\"text-align: right;\">\n",
       "      <th></th>\n",
       "      <th>Student's School and Academic Performance</th>\n",
       "      <th>Student's Address and Academic Performance</th>\n",
       "      <th>Internet Access and Academic Performance</th>\n",
       "      <th>Mother's Job and Academic Performance</th>\n",
       "      <th>Father's Job and Academic Performance</th>\n",
       "      <th>School Support and Academic Performance</th>\n",
       "      <th>Desire for Higher Education and Academic Performance</th>\n",
       "    </tr>\n",
       "  </thead>\n",
       "  <tbody>\n",
       "    <tr>\n",
       "      <th>0</th>\n",
       "      <td>2.121064</td>\n",
       "      <td>8.311809</td>\n",
       "      <td>8.088663</td>\n",
       "      <td>36.165282</td>\n",
       "      <td>30.987292</td>\n",
       "      <td>14.77708</td>\n",
       "      <td>13.164036</td>\n",
       "    </tr>\n",
       "    <tr>\n",
       "      <th>1</th>\n",
       "      <td>0.713504</td>\n",
       "      <td>0.080801</td>\n",
       "      <td>0.088384</td>\n",
       "      <td>0.002744</td>\n",
       "      <td>0.013507</td>\n",
       "      <td>0.005187</td>\n",
       "      <td>0.010501</td>\n",
       "    </tr>\n",
       "    <tr>\n",
       "      <th>2</th>\n",
       "      <td>False</td>\n",
       "      <td>False</td>\n",
       "      <td>False</td>\n",
       "      <td>True</td>\n",
       "      <td>True</td>\n",
       "      <td>True</td>\n",
       "      <td>True</td>\n",
       "    </tr>\n",
       "  </tbody>\n",
       "</table>\n",
       "</div>"
      ],
      "text/plain": [
       "  Student's School and Academic Performance  \\\n",
       "0                                  2.121064   \n",
       "1                                  0.713504   \n",
       "2                                     False   \n",
       "\n",
       "  Student's Address and Academic Performance  \\\n",
       "0                                   8.311809   \n",
       "1                                   0.080801   \n",
       "2                                      False   \n",
       "\n",
       "  Internet Access and Academic Performance  \\\n",
       "0                                 8.088663   \n",
       "1                                 0.088384   \n",
       "2                                    False   \n",
       "\n",
       "  Mother's Job and Academic Performance Father's Job and Academic Performance  \\\n",
       "0                             36.165282                             30.987292   \n",
       "1                              0.002744                              0.013507   \n",
       "2                                  True                                  True   \n",
       "\n",
       "  School Support and Academic Performance  \\\n",
       "0                                14.77708   \n",
       "1                                0.005187   \n",
       "2                                    True   \n",
       "\n",
       "  Desire for Higher Education and Academic Performance  \n",
       "0                                          13.164036    \n",
       "1                                           0.010501    \n",
       "2                                               True    "
      ]
     },
     "execution_count": 56,
     "metadata": {},
     "output_type": "execute_result"
    }
   ],
   "source": [
    "# Categorical Vars of Interest\n",
    "cat_vars_to_test = {\n",
    "    \"Student's School and Academic Performance\": ('school', 'L2'),\n",
    "    \"Student's Address and Academic Performance\": ('address', 'L2'),\n",
    "    \"Internet Access and Academic Performance\": ('internet', 'L2'),\n",
    "    \"Mother's Job and Academic Performance\": ('Mjob', 'L1'),\n",
    "    \"Father's Job and Academic Performance\": ('Fjob', 'L1'),\n",
    "    \"School Support and Academic Performance\": ('schoolsup', 'L3'),\n",
    "    \"Desire for Higher Education and Academic Performance\": ('higher', 'L3')\n",
    "}\n",
    "\n",
    "results = {aspect: perform_chi_square_test(student_mat, *columns) for aspect, columns in cat_vars_to_test.items()}\n",
    "chi_square_results = pd.DataFrame(results)\n",
    "chi_square_results"
   ]
  },
  {
   "cell_type": "raw",
   "id": "9fec47af-2410-470b-8b7e-2f4ff7d0f922",
   "metadata": {},
   "source": [
    "From the Chi-Square tests, obtained that 'Mjob', 'Fjob', 'schoolsup', and 'higher' are likely to be correlated with grades. "
   ]
  },
  {
   "cell_type": "markdown",
   "id": "9c161690-0e47-4990-b7a5-ac74781312c7",
   "metadata": {},
   "source": [
    "## 4b. T-Tests on Quantitative Vars"
   ]
  },
  {
   "cell_type": "code",
   "execution_count": 51,
   "id": "65193cd5-3a9d-4ebe-88f5-ad77b7e9c616",
   "metadata": {},
   "outputs": [],
   "source": [
    "# Quantitaive Vars of Interest\n",
    "quan_vars_focus = [\n",
    "    'age', 'Medu', 'Fedu', 'traveltime', 'studytime', 'failures', 'health', 'G1', 'G2'\n",
    "]"
   ]
  },
  {
   "cell_type": "code",
   "execution_count": 54,
   "id": "c32b3201-70a1-4a31-88dc-86f5aa817856",
   "metadata": {},
   "outputs": [
    {
     "data": {
      "text/html": [
       "<div>\n",
       "<style scoped>\n",
       "    .dataframe tbody tr th:only-of-type {\n",
       "        vertical-align: middle;\n",
       "    }\n",
       "\n",
       "    .dataframe tbody tr th {\n",
       "        vertical-align: top;\n",
       "    }\n",
       "\n",
       "    .dataframe thead th {\n",
       "        text-align: right;\n",
       "    }\n",
       "</style>\n",
       "<table border=\"1\" class=\"dataframe\">\n",
       "  <thead>\n",
       "    <tr style=\"text-align: right;\">\n",
       "      <th></th>\n",
       "      <th>Variable</th>\n",
       "      <th>T-test</th>\n",
       "      <th>P-value</th>\n",
       "      <th>Statistically Significant</th>\n",
       "    </tr>\n",
       "  </thead>\n",
       "  <tbody>\n",
       "    <tr>\n",
       "      <th>6</th>\n",
       "      <td>health</td>\n",
       "      <td>0.209455</td>\n",
       "      <td>8.342017e-01</td>\n",
       "      <td>False</td>\n",
       "    </tr>\n",
       "    <tr>\n",
       "      <th>0</th>\n",
       "      <td>age</td>\n",
       "      <td>3.060949</td>\n",
       "      <td>2.363520e-03</td>\n",
       "      <td>True</td>\n",
       "    </tr>\n",
       "    <tr>\n",
       "      <th>1</th>\n",
       "      <td>Medu</td>\n",
       "      <td>-3.293890</td>\n",
       "      <td>1.079537e-03</td>\n",
       "      <td>True</td>\n",
       "    </tr>\n",
       "    <tr>\n",
       "      <th>2</th>\n",
       "      <td>Fedu</td>\n",
       "      <td>-3.477660</td>\n",
       "      <td>5.630071e-04</td>\n",
       "      <td>True</td>\n",
       "    </tr>\n",
       "    <tr>\n",
       "      <th>3</th>\n",
       "      <td>traveltime</td>\n",
       "      <td>2.685073</td>\n",
       "      <td>7.590143e-03</td>\n",
       "      <td>True</td>\n",
       "    </tr>\n",
       "    <tr>\n",
       "      <th>4</th>\n",
       "      <td>studytime</td>\n",
       "      <td>-2.010697</td>\n",
       "      <td>4.504070e-02</td>\n",
       "      <td>True</td>\n",
       "    </tr>\n",
       "    <tr>\n",
       "      <th>5</th>\n",
       "      <td>failures</td>\n",
       "      <td>6.547461</td>\n",
       "      <td>3.905427e-10</td>\n",
       "      <td>True</td>\n",
       "    </tr>\n",
       "    <tr>\n",
       "      <th>7</th>\n",
       "      <td>G1</td>\n",
       "      <td>-23.189219</td>\n",
       "      <td>1.091113e-74</td>\n",
       "      <td>True</td>\n",
       "    </tr>\n",
       "    <tr>\n",
       "      <th>8</th>\n",
       "      <td>G2</td>\n",
       "      <td>-22.750550</td>\n",
       "      <td>6.730350e-72</td>\n",
       "      <td>True</td>\n",
       "    </tr>\n",
       "  </tbody>\n",
       "</table>\n",
       "</div>"
      ],
      "text/plain": [
       "     Variable     T-test       P-value  Statistically Significant\n",
       "6      health   0.209455  8.342017e-01                      False\n",
       "0         age   3.060949  2.363520e-03                       True\n",
       "1        Medu  -3.293890  1.079537e-03                       True\n",
       "2        Fedu  -3.477660  5.630071e-04                       True\n",
       "3  traveltime   2.685073  7.590143e-03                       True\n",
       "4   studytime  -2.010697  4.504070e-02                       True\n",
       "5    failures   6.547461  3.905427e-10                       True\n",
       "7          G1 -23.189219  1.091113e-74                       True\n",
       "8          G2 -22.750550  6.730350e-72                       True"
      ]
     },
     "execution_count": 54,
     "metadata": {},
     "output_type": "execute_result"
    }
   ],
   "source": [
    "G3_median = student_mat['G3'].median()\n",
    "student_mat['G3_median'] = student_mat['G3'].apply(lambda x: 'low' if x < G3_median else 'high')\n",
    "\n",
    "results = []\n",
    "for quan_var in quan_vars_focus:\n",
    "    low = student_mat[student_mat['G3_median'] == 'low'][quan_var]\n",
    "    high = student_mat[student_mat['G3_median'] == 'high'][quan_var]\n",
    "\n",
    "    t_stat, p_value = stats.ttest_ind(low, high, equal_var = False)\n",
    "\n",
    "    results.append({\"Variable\": quan_var, \"T-test\": t_stat, \"P-value\": p_value})\n",
    "\n",
    "ttest_results = pd.DataFrame(results)\n",
    "ttest_results.sort_values(\"P-value\")\n",
    "\n",
    "ttest_results['Statistically Significant'] = ttest_results['P-value'] < 0.05\n",
    "ttest_results.sort_values('Statistically Significant')"
   ]
  },
  {
   "cell_type": "raw",
   "id": "5c3520c7-66a4-48bd-af16-f606d1ac9f49",
   "metadata": {},
   "source": [
    "From the T-Tests, obtained that all but 'health' are likely to be correlated with grades."
   ]
  }
 ],
 "metadata": {
  "kernelspec": {
   "display_name": "Python 3 (ipykernel)",
   "language": "python",
   "name": "python3"
  },
  "language_info": {
   "codemirror_mode": {
    "name": "ipython",
    "version": 3
   },
   "file_extension": ".py",
   "mimetype": "text/x-python",
   "name": "python",
   "nbconvert_exporter": "python",
   "pygments_lexer": "ipython3",
   "version": "3.11.9"
  }
 },
 "nbformat": 4,
 "nbformat_minor": 5
}
